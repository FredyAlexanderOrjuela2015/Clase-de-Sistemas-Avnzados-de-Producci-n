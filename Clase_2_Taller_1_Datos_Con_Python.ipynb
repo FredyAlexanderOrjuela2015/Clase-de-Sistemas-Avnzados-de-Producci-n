{
  "cells": [
    {
      "cell_type": "markdown",
      "metadata": {
        "id": "view-in-github",
        "colab_type": "text"
      },
      "source": [
        "<a href=\"https://colab.research.google.com/github/FredyAlexanderOrjuela2015/Clase-de-Sistemas-Avnzados-de-Producci-n/blob/main/Clase_2_Taller_1_Datos_Con_Python.ipynb\" target=\"_parent\"><img src=\"https://colab.research.google.com/assets/colab-badge.svg\" alt=\"Open In Colab\"/></a>"
      ]
    },
    {
      "cell_type": "markdown",
      "id": "3824ae83",
      "metadata": {
        "id": "3824ae83"
      },
      "source": [
        "\n",
        "# Clase 2 (2h): Estadística descriptiva y visualización (univariado y bivariado)\n",
        "\n",
        "**Objetivos**\n",
        "- Describir variables numéricas y categóricas.\n",
        "- Detectar atípicos (regla 1.5·IQR).\n",
        "- Visualizar con histogramas, cajas y barras.\n",
        "- Explorar relaciones bivariadas: numérico↔numérico y categórico↔categórico.\n"
      ]
    },
    {
      "cell_type": "code",
      "execution_count": null,
      "id": "86b8459a",
      "metadata": {
        "id": "86b8459a"
      },
      "outputs": [],
      "source": [
        "\n",
        "import sys, platform, math\n",
        "import numpy as np, pandas as pd\n",
        "import matplotlib.pyplot as plt\n",
        "import statsmodels.api as sm\n",
        "%matplotlib inline\n",
        "print(\"Python:\", sys.version.split()[0], \"|\", platform.platform())\n"
      ]
    },
    {
      "cell_type": "code",
      "execution_count": null,
      "id": "1f34984c",
      "metadata": {
        "id": "1f34984c"
      },
      "outputs": [],
      "source": [
        "\n",
        "# Dataset base (si no existe 'da')\n",
        "if 'da' not in globals():\n",
        "    np.random.seed(42)\n",
        "    n = 800\n",
        "    da = pd.DataFrame({\n",
        "        \"SEQN\": np.arange(1, n+1),\n",
        "        \"RIAGENDR\": np.random.choice([1, 2], size=n),\n",
        "        \"RIDAGEYR\": np.random.randint(18, 80, size=n),\n",
        "        \"BMXWT\": np.round(np.random.normal(71, 13, size=n), 1),\n",
        "        \"BMXHT\": np.round(np.random.normal(168, 9, size=n), 1),\n",
        "    })\n",
        "    da[\"BMXBMI\"] = np.round(da[\"BMXWT\"] / (da[\"BMXHT\"]/100)**2, 1)\n",
        "    da.loc[np.random.choice(da.index, size=20, replace=False), \"BMXWT\"] = np.nan\n",
        "\n",
        "# Recodificar\n",
        "if \"RIAGENDR\" in da.columns:\n",
        "    da[\"sexo\"] = da[\"RIAGENDR\"].map({1:\"Masculino\", 2:\"Femenino\"})\n",
        "if \"BMXBMI\" in da.columns:\n",
        "    def cat_imc(x):\n",
        "        if pd.isnull(x): return np.nan\n",
        "        if x < 18.5: return \"Bajo peso\"\n",
        "        if x < 25:   return \"Normal\"\n",
        "        if x < 30:   return \"Sobrepeso\"\n",
        "        return \"Obesidad\"\n",
        "    da[\"IMC_cat\"] = da[\"BMXBMI\"].apply(cat_imc)\n",
        "da.head()\n"
      ]
    },
    {
      "cell_type": "markdown",
      "id": "33760e47",
      "metadata": {
        "id": "33760e47"
      },
      "source": [
        "## Descriptivos univariados"
      ]
    },
    {
      "cell_type": "code",
      "execution_count": null,
      "id": "ef425ae1",
      "metadata": {
        "id": "ef425ae1"
      },
      "outputs": [],
      "source": [
        "\n",
        "num_cols = da.select_dtypes(include=[np.number]).columns\n",
        "resumen = da[num_cols].describe(percentiles=[0.25, 0.5, 0.75]).T\n",
        "resumen[\"IQR\"] = resumen[\"75%\"] - resumen[\"25%\"]\n",
        "resumen\n"
      ]
    },
    {
      "cell_type": "code",
      "execution_count": null,
      "id": "49990185",
      "metadata": {
        "id": "49990185"
      },
      "outputs": [],
      "source": [
        "\n",
        "# Categóricas: frecuencias y proporciones\n",
        "cat_cols = [c for c in da.columns if da[c].dtype == \"O\"]\n",
        "tablas = {}\n",
        "for c in cat_cols:\n",
        "    vc = da[c].value_counts(dropna=False)\n",
        "    prop = (vc / len(da)).round(3)\n",
        "    tablas[c] = pd.DataFrame({\"frecuencia\": vc, \"proporcion\": prop})\n",
        "tablas.get(\"IMC_cat\", None)\n"
      ]
    },
    {
      "cell_type": "markdown",
      "id": "b5a5d958",
      "metadata": {
        "id": "b5a5d958"
      },
      "source": [
        "## Atípicos con 1.5·IQR y visualizaciones"
      ]
    },
    {
      "cell_type": "code",
      "execution_count": null,
      "id": "742b9d69",
      "metadata": {
        "id": "742b9d69"
      },
      "outputs": [],
      "source": [
        "\n",
        "def iqr_outliers(s):\n",
        "    s = s.dropna()\n",
        "    q1, q3 = np.percentile(s, [25, 75])\n",
        "    iqr = q3 - q1\n",
        "    low, high = q1 - 1.5*iqr, q3 + 1.5*iqr\n",
        "    return (low, high, (s < low).sum(), (s > high).sum())\n",
        "\n",
        "target = \"BMXBMI\" if \"BMXBMI\" in da.columns else num_cols[0]\n",
        "low, high, nlow, nhigh = iqr_outliers(da[target])\n",
        "print(f\"{target} → límites [{low:.2f}, {high:.2f}] | atípicos por abajo: {nlow}, por arriba: {nhigh}\")\n",
        "\n",
        "plt.figure(); da[target].dropna().hist(bins=25)\n",
        "plt.title(f\"Histograma de {target}\"); plt.xlabel(target); plt.ylabel(\"Frecuencia\"); plt.show()\n",
        "\n",
        "plt.figure(); plt.boxplot(da[target].dropna(), vert=True)\n",
        "plt.title(f\"Diagrama de caja de {target}\"); plt.ylabel(target); plt.show()\n"
      ]
    },
    {
      "cell_type": "markdown",
      "id": "96dfd73d",
      "metadata": {
        "id": "96dfd73d"
      },
      "source": [
        "## Relaciones bivariadas"
      ]
    },
    {
      "cell_type": "code",
      "execution_count": null,
      "id": "b9b749de",
      "metadata": {
        "id": "b9b749de"
      },
      "outputs": [],
      "source": [
        "\n",
        "# Numérico vs numérico\n",
        "if {\"RIDAGEYR\",\"BMXBMI\"}.issubset(da.columns):\n",
        "    x, y = da[\"RIDAGEYR\"], da[\"BMXBMI\"]\n",
        "    r = np.corrcoef(x.dropna(), y.dropna())[0,1]\n",
        "    plt.figure(); plt.scatter(x, y, s=12)\n",
        "    plt.title(f\"Dispersión: Edad vs IMC (r≈{r:.2f})\"); plt.xlabel(\"Edad (años)\"); plt.ylabel(\"IMC\"); plt.show()\n",
        "else:\n",
        "    print(\"No se encuentran 'RIDAGEYR' y 'BMXBMI'.\")\n"
      ]
    },
    {
      "cell_type": "code",
      "execution_count": null,
      "id": "d66f6609",
      "metadata": {
        "id": "d66f6609"
      },
      "outputs": [],
      "source": [
        "\n",
        "    # Categórico vs categórico\n",
        "    import pandas as pd, matplotlib.pyplot as plt\n",
        "    if {\"sexo\",\"IMC_cat\"}.issubset(da.columns):\n",
        "        ct = pd.crosstab(da[\"sexo\"], da[\"IMC_cat\"], dropna=False)\n",
        "        print(\"Tabla de contingencia:\n",
        "\", ct, \"\n",
        "\")\n",
        "        (ct.T / ct.T.sum()).T.plot(kind=\"bar\", stacked=True, rot=0)\n",
        "        plt.title(\"Distribución de IMC por sexo (proporciones)\")\n",
        "        plt.xlabel(\"Sexo\"); plt.ylabel(\"Proporción\"); plt.legend(title=\"IMC_cat\", bbox_to_anchor=(1.05,1), loc=\"upper left\")\n",
        "        plt.show()\n",
        "    else:\n",
        "        print(\"No se encuentran 'sexo' e 'IMC_cat'.\")\n"
      ]
    },
    {
      "cell_type": "markdown",
      "id": "6a771776",
      "metadata": {
        "id": "6a771776"
      },
      "source": [
        "## Q-Q Plot (opcional)"
      ]
    },
    {
      "cell_type": "code",
      "execution_count": null,
      "id": "05f4cf76",
      "metadata": {
        "id": "05f4cf76"
      },
      "outputs": [],
      "source": [
        "\n",
        "import statsmodels.api as sm, matplotlib.pyplot as plt\n",
        "var = \"BMXBMI\" if \"BMXBMI\" in da.columns else num_cols[0]\n",
        "plt.figure(); sm.ProbPlot(da[var].dropna()).qqplot(line=\"s\")\n",
        "plt.title(f\"Q-Q plot de {var}\"); plt.show()\n"
      ]
    },
    {
      "cell_type": "markdown",
      "id": "cf0b5cea",
      "metadata": {
        "id": "cf0b5cea"
      },
      "source": [
        "\n",
        "## Ejercicios (para tu repositorio)\n",
        "1) Resumen de una variable numérica y detección de atípicos.  \n",
        "2) Histograma y boxplot con comentario sobre la forma.  \n",
        "3) Tabla `sexo × IMC_cat` con proporciones.  \n",
        "4) Dispersograma de dos numéricas e interpretación de la correlación.\n"
      ]
    },
    {
      "cell_type": "markdown",
      "id": "65b6e956",
      "metadata": {
        "id": "65b6e956"
      },
      "source": [
        "\n",
        "### Respuestas del estudiante (Markdown)\n",
        "<div class=\"response-box\">\n",
        "Escribe aquí tu análisis y conclusiones para los puntos 1–4.\n",
        "</div>\n"
      ]
    },
    {
      "cell_type": "code",
      "execution_count": null,
      "id": "874ed978",
      "metadata": {
        "id": "874ed978"
      },
      "outputs": [],
      "source": [
        "# Respuestas del estudiante (Código)\n",
        "# TODO: Añade aquí tu código para los ejercicios de la Clase 2"
      ]
    }
  ],
  "metadata": {
    "colab": {
      "provenance": [],
      "include_colab_link": true
    }
  },
  "nbformat": 4,
  "nbformat_minor": 5
}